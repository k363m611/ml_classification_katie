{
 "cells": [
  {
   "cell_type": "code",
   "execution_count": null,
   "id": "226c7155",
   "metadata": {},
   "outputs": [],
   "source": [
    "%matplotlib inline"
   ]
  },
  {
   "cell_type": "code",
   "execution_count": null,
   "id": "0e0c5d26",
   "metadata": {},
   "outputs": [],
   "source": [
    "%matplotlib inline"
   ]
  },
  {
   "cell_type": "markdown",
   "id": "93febfeb",
   "metadata": {},
   "source": [
    "# Classification Analysis: Titanic Dataset\n",
    "**Name:** Katie  \n",
    "**Date:** April 6, 2025  \n",
    "\n",
    "## Introduction  \n",
    "The objective of this project is to build a machine learning model to predict survival on the Titanic. The dataset contains demographic and travel-related features, and the target variable is whether or not a passenger survived. We will explore the data, engineer features, train classification models, and compare their performance.\n"
   ]
  },
  {
   "cell_type": "code",
   "execution_count": null,
   "id": "ee5eb0b0",
   "metadata": {},
   "outputs": [],
   "source": [
    "%matplotlib inline"
   ]
  },
  {
   "cell_type": "code",
   "execution_count": null,
   "id": "95e25d33",
   "metadata": {},
   "outputs": [],
   "source": [
    "# 0. Import Libraries\n",
    "import pandas as pd\n",
    "import numpy as np\n",
    "import matplotlib.pyplot as plt\n",
    "import seaborn as sns\n",
    "\n",
    "from sklearn.preprocessing import StandardScaler\n",
    "from sklearn.model_selection import train_test_split\n",
    "from sklearn.linear_model import LogisticRegression\n",
    "from sklearn.ensemble import RandomForestClassifier\n",
    "from sklearn.metrics import (\n",
    "    accuracy_score,\n",
    "    classification_report,\n",
    "    confusion_matrix\n",
    ")\n",
    "\n",
    "# Plot style\n",
    "sns.set(style=\"whitegrid\")"
   ]
  },
  {
   "cell_type": "markdown",
   "id": "b02c80c7",
   "metadata": {},
   "source": [
    "## 1. Import and Inspect the Data"
   ]
  },
  {
   "cell_type": "code",
   "execution_count": null,
   "id": "9fdc1fc6",
   "metadata": {},
   "outputs": [],
   "source": [
    "# Load the training dataset\n",
    "df = pd.read_csv(\"data/train.csv\")\n",
    "\n",
    "# Display first 10 rows\n",
    "df.head(10)"
   ]
  },
  {
   "cell_type": "code",
   "execution_count": null,
   "id": "81d9699b",
   "metadata": {},
   "outputs": [],
   "source": [
    "# Check for missing values\n",
    "df.isnull().sum()\n",
    "\n",
    "# Summary statistics\n",
    "df.describe(include='all')"
   ]
  },
  {
   "cell_type": "markdown",
   "id": "db1f9e40",
   "metadata": {},
   "source": [
    "### Reflection 1:\n",
    "The dataset contains a mix of categorical (e.g., `Sex`, `Embarked`) and numerical (e.g., `Age`, `Fare`) features. There are missing values in the `Age`, `Cabin`, and `Embarked` columns. The `Cabin` column has a lot of missing values and may need to be dropped. Overall, the dataset is relatively clean but needs some preprocessing."
   ]
  },
  {
   "cell_type": "markdown",
   "id": "bf9889a8",
   "metadata": {},
   "source": [
    "## 2. Data Exploration and Preparation"
   ]
  },
  {
   "cell_type": "code",
   "execution_count": null,
   "id": "82b10be1",
   "metadata": {},
   "outputs": [],
   "source": [
    "# Histogram of Age\n",
    "plt.figure(figsize=(8,4))\n",
    "sns.histplot(df['Age'].dropna(), kde=True)\n",
    "plt.title(\"Distribution of Age\")\n",
    "plt.show()\n",
    "\n",
    "# Boxplot of Fare\n",
    "plt.figure(figsize=(8,4))\n",
    "sns.boxplot(x='Fare', data=df)\n",
    "plt.title(\"Boxplot of Fare\")\n",
    "plt.show()\n",
    "\n",
    "# Count plot for Survived\n",
    "sns.countplot(x='Survived', data=df)\n",
    "plt.title(\"Survival Count (Target Variable)\")\n",
    "plt.xticks([0, 1], ['Did Not Survive', 'Survived'])\n",
    "plt.show()\n",
    "\n",
    "# Count plot for Pclass\n",
    "sns.countplot(x='Pclass', data=df)\n",
    "plt.title(\"Passenger Class Distribution\")\n",
    "plt.show()\n",
    "\n",
    "# Count plot for Sex\n",
    "sns.countplot(x='Sex', data=df)\n",
    "plt.title(\"Passenger Sex Distribution\")\n",
    "plt.show()"
   ]
  },
  {
   "cell_type": "markdown",
   "id": "9b677659",
   "metadata": {},
   "source": [
    "### Reflection 2:\n",
    "The Age column has a fairly normal distribution but contains some missing values. The Fare column has a long tail with some high outliers. There is a class imbalance in the target variable: more people died than survived. Most passengers are in 3rd class, and more males than females are aboard. These patterns will be important during feature selection and modeling."
   ]
  },
  {
   "cell_type": "code",
   "execution_count": null,
   "id": "99c68d74",
   "metadata": {},
   "outputs": [],
   "source": [
    "# Check again which columns have missing values\n",
    "df.isnull().sum()\n",
    "\n",
    "# Drop Cabin (too many missing values)\n",
    "df.drop('Cabin', axis=1, inplace=True)\n",
    "\n",
    "# Fill missing Age values with median\n",
    "df['Age'].fillna(df['Age'].median(), inplace=True)\n",
    "\n",
    "# Fill missing Embarked values with mode\n",
    "df['Embarked'].fillna(df['Embarked'].mode()[0], inplace=True)\n",
    "\n",
    "# Double-check missing values now\n",
    "df.isnull().sum()"
   ]
  },
  {
   "cell_type": "code",
   "execution_count": null,
   "id": "3435cedb",
   "metadata": {},
   "outputs": [],
   "source": [
    "# Convert Sex to numerical (male=0, female=1)\n",
    "df['Sex'] = df['Sex'].map({'male': 0, 'female': 1})\n",
    "\n",
    "# One-hot encode Embarked (C, Q, S)\n",
    "df = pd.get_dummies(df, columns=['Embarked'], drop_first=True)\n",
    "\n",
    "# Scale Age and Fare\n",
    "scaler = StandardScaler()\n",
    "df[['Age', 'Fare']] = scaler.fit_transform(df[['Age', 'Fare']])"
   ]
  },
  {
   "cell_type": "code",
   "execution_count": null,
   "id": "52de304a",
   "metadata": {},
   "outputs": [],
   "source": [
    "# Create new feature: FamilySize = SibSp + Parch + 1 (self)\n",
    "df['FamilySize'] = df['SibSp'] + df['Parch'] + 1\n",
    "\n",
    "# Drop unused columns\n",
    "df.drop(['Name', 'Ticket', 'PassengerId'], axis=1, inplace=True)"
   ]
  },
  {
   "cell_type": "markdown",
   "id": "d997adbd",
   "metadata": {},
   "source": [
    "### Reflection 2 (continued):\n",
    "I dropped the Cabin column due to a large number of missing values. Age was filled with the median and Embarked with the mode. I converted Sex to numerical values and applied one-hot encoding to Embarked. Finally, I scaled Age and Fare to normalize their ranges. These steps help clean the dataset and prepare it for model training."
   ]
  },
  {
   "cell_type": "markdown",
   "id": "579c741a",
   "metadata": {},
   "source": [
    "## 3. Feature Selection and Justification"
   ]
  },
  {
   "cell_type": "code",
   "execution_count": null,
   "id": "0ecc3278",
   "metadata": {},
   "outputs": [],
   "source": [
    "# Define target variable\n",
    "y = df['Survived']\n",
    "\n",
    "# Define feature variables\n",
    "X = df.drop('Survived', axis=1)"
   ]
  },
  {
   "cell_type": "markdown",
   "id": "fedb1500",
   "metadata": {},
   "source": [
    "### Reflection 3:\n",
    "I selected all cleaned and engineered features (excluding the target `Survived`) for `X`. These include `Pclass`, `Sex`, `Age`, `Fare`, `SibSp`, `Parch`, `FamilySize`, and the one-hot encoded `Embarked` columns. These features provide information about passenger demographics, socioeconomic status, and group size — all of which may influence survival. I believe this set captures a well-rounded view of the passengers."
   ]
  },
  {
   "cell_type": "markdown",
   "id": "37f5e0f3",
   "metadata": {},
   "source": [
    "## 4. Train a Model: Logistic Regression"
   ]
  },
  {
   "cell_type": "code",
   "execution_count": null,
   "id": "7acaff3d",
   "metadata": {},
   "outputs": [],
   "source": [
    "# Split data (80% train, 20% test)\n",
    "X_train, X_test, y_train, y_test = train_test_split(\n",
    "    X, y, test_size=0.2, random_state=42, stratify=y\n",
    ")\n",
    "\n",
    "# Initialize and train logistic regression\n",
    "model = LogisticRegression(max_iter=1000)\n",
    "model.fit(X_train, y_train)\n",
    "\n",
    "# Predict on test set\n",
    "y_pred = model.predict(X_test)\n",
    "\n",
    "# Confusion matrix and classification report\n",
    "print(\"Confusion Matrix:\\n\", confusion_matrix(y_test, y_pred))\n",
    "print(\"\\nClassification Report:\\n\", classification_report(y_test, y_pred))"
   ]
  },
  {
   "cell_type": "markdown",
   "id": "85324f33",
   "metadata": {},
   "source": [
    "### Reflection 4:\n",
    "The logistic regression model performed reasonably well, with accuracy around 80%. Precision and recall varied slightly between classes. It seems the model is slightly better at predicting non-survivors than survivors, which might reflect the class imbalance. Overall, it's a solid baseline model for this classification task."
   ]
  },
  {
   "cell_type": "markdown",
   "id": "e86bec41",
   "metadata": {},
   "source": [
    "## 5. Improve the Model: Try Random Forest"
   ]
  },
  {
   "cell_type": "code",
   "execution_count": null,
   "id": "f033a45f",
   "metadata": {},
   "outputs": [],
   "source": [
    "# Train Random Forest model\n",
    "rf_model = RandomForestClassifier(random_state=42)\n",
    "rf_model.fit(X_train, y_train)\n",
    "\n",
    "# Predict and evaluate\n",
    "rf_preds = rf_model.predict(X_test)\n",
    "\n",
    "print(\"Confusion Matrix:\\n\", confusion_matrix(y_test, rf_preds))\n",
    "print(\"\\nClassification Report:\\n\", classification_report(y_test, rf_preds))\n",
    "print(\"Accuracy:\", accuracy_score(y_test, rf_preds))"
   ]
  },
  {
   "cell_type": "markdown",
   "id": "6c79eb42",
   "metadata": {},
   "source": [
    "### Reflection 5:\n",
    "The Random Forest model performed better than logistic regression, with improved recall and accuracy. This is likely due to its ability to handle complex feature interactions. It’s a good fit for this dataset."
   ]
  },
  {
   "cell_type": "markdown",
   "id": "a389f1fc",
   "metadata": {},
   "source": [
    "## 6. Final Thoughts & Insights\n",
    "\n",
    "### 6.1 Summary of Findings:\n",
    "The models performed reasonably well, with Random Forest outperforming logistic regression. Key predictors were `Sex`, `Pclass`, and `Fare`.\n",
    "\n",
    "### 6.2 Challenges Faced:\n",
    "Handling missing values, selecting features, and interpreting evaluation metrics were challenging but educational.\n",
    "\n",
    "### 6.3 What I'd Do With More Time:\n",
    "I’d try hyperparameter tuning, cross-validation, and more advanced models like XGBoost.\n",
    "\n",
    "### Reflection 6:\n",
    "This project gave me hands-on practice with the full ML pipeline — from raw data to models and reflection. It also reinforced how important data cleaning and thoughtful modeling choices are."
   ]
  }
 ],
 "metadata": {},
 "nbformat": 4,
 "nbformat_minor": 5
}
